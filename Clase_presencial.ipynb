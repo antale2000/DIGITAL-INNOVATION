{
  "nbformat": 4,
  "nbformat_minor": 0,
  "metadata": {
    "colab": {
      "provenance": [],
      "collapsed_sections": [],
      "authorship_tag": "ABX9TyOsvawPocU2EbLXIsN1BsG1",
      "include_colab_link": true
    },
    "kernelspec": {
      "name": "python3",
      "display_name": "Python 3"
    },
    "language_info": {
      "name": "python"
    }
  },
  "cells": [
    {
      "cell_type": "markdown",
      "metadata": {
        "id": "view-in-github",
        "colab_type": "text"
      },
      "source": [
        "<a href=\"https://colab.research.google.com/github/Edwin-Joya/DIGITAL-INNOVATION/blob/main/Clase_presencial.ipynb\" target=\"_parent\"><img src=\"https://colab.research.google.com/assets/colab-badge.svg\" alt=\"Open In Colab\"/></a>"
      ]
    },
    {
      "cell_type": "code",
      "execution_count": null,
      "metadata": {
        "colab": {
          "base_uri": "https://localhost:8080/"
        },
        "id": "eHjbe5POtzX-",
        "outputId": "936eefc1-43d0-4c74-9739-a37cf24b3d33"
      },
      "outputs": [
        {
          "output_type": "stream",
          "name": "stdout",
          "text": [
            "Hola mundo Bienvenidos a programacion computacional III  Edwin Osmin Joya Colato\n"
          ]
        }
      ],
      "source": [
        "print(\"Hola mundo\", \"Bienvenidos a programacion computacional III\",\" Edwin Osmin Joya Colato\")"
      ]
    },
    {
      "cell_type": "code",
      "source": [
        "nombre = \"Edwin Joya\"\n",
        "print(nombre)"
      ],
      "metadata": {
        "id": "hobkz2D30s5W",
        "colab": {
          "base_uri": "https://localhost:8080/"
        },
        "outputId": "cbe4149f-c295-4a4d-ff65-42bc807945b0"
      },
      "execution_count": null,
      "outputs": [
        {
          "output_type": "stream",
          "name": "stdout",
          "text": [
            "Edwin Joya\n"
          ]
        }
      ]
    },
    {
      "cell_type": "code",
      "source": [
        "#conversor de celsius a f\n",
        "def cf(c):\n",
        "   return c*9/5+32\n",
        "  "
      ],
      "metadata": {
        "id": "y2bRpdz5upZv"
      },
      "execution_count": null,
      "outputs": []
    },
    {
      "cell_type": "code",
      "source": [
        "c = float(input(\"Grados C:\"))\n",
        "print(\"G.C a F\",cf(c))\n"
      ],
      "metadata": {
        "colab": {
          "base_uri": "https://localhost:8080/"
        },
        "id": "trcYYiiJvNzn",
        "outputId": "5b087f85-7498-456d-f218-e0dab5d3da7e"
      },
      "execution_count": null,
      "outputs": [
        {
          "output_type": "stream",
          "name": "stdout",
          "text": [
            "Grados C:27\n",
            "G.C a F 80.6\n"
          ]
        }
      ]
    },
    {
      "cell_type": "code",
      "source": [
        "grados = lambda c: c*9/5 +32\n",
        "c = int(input(\"Grados C:\"))\n",
        "print(grados(c))"
      ],
      "metadata": {
        "colab": {
          "base_uri": "https://localhost:8080/"
        },
        "id": "quQkMUe9xY7l",
        "outputId": "361d61f5-99ea-4ea1-9d32-d4393fa6dd28"
      },
      "execution_count": null,
      "outputs": [
        {
          "output_type": "stream",
          "name": "stdout",
          "text": [
            "Grados C:27\n",
            "80.6\n"
          ]
        }
      ]
    },
    {
      "cell_type": "code",
      "source": [
        "celsius = lambda c: c*9/5 +32\n",
        "c= int(input(\"Grados Celsius a convertir:\"))\n",
        "\n",
        "print( celsius(c))"
      ],
      "metadata": {
        "colab": {
          "base_uri": "https://localhost:8080/"
        },
        "id": "JGpzhN8wzwgO",
        "outputId": "e751b4e9-ebfe-453c-e127-59aaed3478c4"
      },
      "execution_count": null,
      "outputs": [
        {
          "output_type": "stream",
          "name": "stdout",
          "text": [
            "Grados Celsius a convertir:27\n",
            "80.6\n"
          ]
        }
      ]
    },
    {
      "cell_type": "code",
      "source": [
        "gradosc = [27,30,35,40,45]\n",
        "grados = lambda c: c*1.8 +32\n",
        "f = list( map(grados, gradosc))\n",
        "print(f)\n"
      ],
      "metadata": {
        "colab": {
          "base_uri": "https://localhost:8080/"
        },
        "id": "Acjf89sS0jIY",
        "outputId": "3f0ec190-cdfb-4363-e031-d4a17b7a2590"
      },
      "execution_count": null,
      "outputs": [
        {
          "output_type": "stream",
          "name": "stdout",
          "text": [
            "[80.6, 86.0, 95.0, 104.0, 113.0]\n"
          ]
        }
      ]
    },
    {
      "cell_type": "code",
      "source": [
        "gradosc = [80.6,86,95,104,113]\n",
        "grados = lambda f: (f-32)*5/9\n",
        "f = list( map(grados, gradosc))\n",
        "print(f)\n"
      ],
      "metadata": {
        "colab": {
          "base_uri": "https://localhost:8080/"
        },
        "id": "OULZTAjr3_9h",
        "outputId": "cd9282a9-111a-4685-cf6b-8789d9b1502f"
      },
      "execution_count": null,
      "outputs": [
        {
          "output_type": "stream",
          "name": "stdout",
          "text": [
            "[26.999999999999996, 30.0, 35.0, 40.0, 45.0]\n"
          ]
        }
      ]
    },
    {
      "cell_type": "code",
      "source": [
        "#Ejercicio Miercoles 17 \n",
        "#Algoritmo en python que convierte de celsius a kelvin y viceversa\n",
        "\n",
        "gradosc = [27,30,35,40,45]\n",
        "gradosk = [300.15,303.15,308.15,313.15,318.15]\n",
        "\n",
        "grados = lambda k: (k+273.15)\n",
        "gradoss = lambda c: (c-273.15)\n",
        "\n",
        "k = list( map(grados, gradosc))\n",
        "\n",
        "c = list( map(gradoss, gradosk))\n",
        "print(\"Grados C a kelvin\",(k))\n",
        "print(\"Grados K a Celsius\",(c))"
      ],
      "metadata": {
        "colab": {
          "base_uri": "https://localhost:8080/"
        },
        "id": "YyvutdTG6CzM",
        "outputId": "5d560857-b596-4b13-8aeb-d36ed4d6ad96"
      },
      "execution_count": null,
      "outputs": [
        {
          "output_type": "stream",
          "name": "stdout",
          "text": [
            "Grados C a kelvin [300.15, 303.15, 308.15, 313.15, 318.15]\n",
            "Grados K a Celsius [27.0, 30.0, 35.0, 40.0, 45.0]\n"
          ]
        }
      ]
    },
    {
      "cell_type": "code",
      "source": [
        "saludo = \"hola\"\n",
        "print(saludo + \" Mundo\")\n",
        "print( saludo[0],saludo[1])"
      ],
      "metadata": {
        "colab": {
          "base_uri": "https://localhost:8080/"
        },
        "id": "1KBRZSrl3ZLU",
        "outputId": "b88a2907-ce2e-42fe-e5f6-81c0f08e1036"
      },
      "execution_count": null,
      "outputs": [
        {
          "output_type": "stream",
          "name": "stdout",
          "text": [
            "hola Mundo\n",
            "h o\n"
          ]
        }
      ]
    },
    {
      "cell_type": "markdown",
      "source": [
        "Conversor de divisas\n",
        "Dolares,Quetzalez, Lempiras, Cordobas, Pesos CR, Euros, Colon SV, Yenes, Soles Peruanos"
      ],
      "metadata": {
        "id": "l-NsZGhM3mOs"
      }
    },
    {
      "cell_type": "code",
      "source": [
        "#Conversor de monedas 1/3\n",
        "divisas = [\"seleccione una divisa\", \"Dolares\",\n",
        "           \"Quetzalez\", \"Lempiras\",\"Cordobas\",\n",
        "           \"Pesos CR\",\"Euros\",\"Colon SV\", \n",
        "           \"Yenes\",\"Soles Peruanos\"\n",
        "           \n",
        "           \n",
        "]\n",
        "valores =[0,1,7.71, 24.51, 35.77, 664.64, 0.98, 8.75, 134.13, 3.84]\n",
        "\n"
      ],
      "metadata": {
        "id": "uVbSTa2t_vQ-"
      },
      "execution_count": null,
      "outputs": []
    },
    {
      "cell_type": "code",
      "source": [
        "#Formula Universal de conversion 2/3\n",
        "def convertir(de, a, cantidad):\n",
        " return valores[a] / valores[de]* cantidad"
      ],
      "metadata": {
        "id": "gU_Zp4pe7Uf1"
      },
      "execution_count": null,
      "outputs": []
    },
    {
      "cell_type": "code",
      "source": [
        "#Menu de conversion de divisas 3/3\n",
        "print(\"*** MENU ***\")\n",
        "print(\"Seleccione una divisa\")\n",
        "print(\"1.Dolares\")\n",
        "print(\"2.Quetzalez\")\n",
        "print(\"3.Lempiras\")\n",
        "print(\"4.Cordobas\")\n",
        "print(\"5.Pesos CR\")\n",
        "print(\"6.Euros\")\n",
        "print(\"7.Colon SV\")\n",
        "print(\"8.Yenes\")\n",
        "print(\"9.Soles Peruanos\")\n",
        "\n",
        "\n"
      ],
      "metadata": {
        "id": "MAkhoNcU7Nlg",
        "colab": {
          "base_uri": "https://localhost:8080/"
        },
        "outputId": "3b42ef77-a71b-4434-9576-30f18b368fdb"
      },
      "execution_count": null,
      "outputs": [
        {
          "output_type": "stream",
          "name": "stdout",
          "text": [
            "*** MENU ***\n",
            "Seleccione una divisa\n",
            "1.Dolares\n",
            "2.Quetzalez\n",
            "3.Lempiras\n",
            "4.Cordobas\n",
            "5.Pesos CR\n",
            "6.Euros\n",
            "7.Colon SV\n",
            "8.Yenes\n",
            "9.Soles Peruanos\n"
          ]
        }
      ]
    },
    {
      "cell_type": "code",
      "source": [
        "de = int(input(\"De: \"))\n",
        "a = int(input(\"A: \"))\n",
        "cantidad = float(input(\"Cantidad: \"))\n",
        "\n",
        "print( divisas[de], \" a \", divisas[a], \"es\", convertir(de, a, cantidad))"
      ],
      "metadata": {
        "colab": {
          "base_uri": "https://localhost:8080/"
        },
        "id": "Nthqy6wf8kt8",
        "outputId": "d57cb248-f2fc-4eaf-8faf-514ce78e3fbb"
      },
      "execution_count": null,
      "outputs": [
        {
          "output_type": "stream",
          "name": "stdout",
          "text": [
            "De: 6\n",
            "A: 2\n",
            "Cantidad: 10\n",
            "Euros  a  Quetzalez es 78.6734693877551\n"
          ]
        }
      ]
    },
    {
      "cell_type": "code",
      "source": [
        "#if condicional si\n",
        "\n",
        "edad = int(input(\"Dime tu edad: \"))\n",
        "if (edad<=2):\n",
        "  print(\"Eres un bebé\")\n",
        "elif(edad<12):\n",
        "  print(\"Eres un niño\")\n",
        "elif(edad<18):\n",
        "  print(\"Eres un adolescente\")\n",
        "elif(edad<65):\n",
        "  print(\"Eres mayor de edad, Tienes responsabilidades\")\n",
        "elif(edad<80):\n",
        "  print(\"Eres un adulto mayor\")\n",
        "else:\n",
        "  print(\"Larga vida\")\n"
      ],
      "metadata": {
        "colab": {
          "base_uri": "https://localhost:8080/"
        },
        "id": "_9HBNvwnbv5p",
        "outputId": "82a878b5-cd0d-475b-dfd3-c11d3488db6a"
      },
      "execution_count": null,
      "outputs": [
        {
          "output_type": "stream",
          "name": "stdout",
          "text": [
            "Dime tu edad: 2\n",
            "Eres un bebé\n"
          ]
        }
      ]
    },
    {
      "cell_type": "code",
      "source": [
        "#Ciclos, while y for\n",
        "#obtenga la tabla de multiplicar de x numero dada por el usuario\n",
        "#while\n",
        "ntabla = int(input(\"Tabla: \"))\n",
        "i=1\n",
        "while(i<=10):\n",
        "  print(ntabla, \"X\", i, \"=\", ntabla*i)\n",
        "  i+=1"
      ],
      "metadata": {
        "id": "18W1Mym_dl_e"
      },
      "execution_count": null,
      "outputs": []
    },
    {
      "cell_type": "code",
      "source": [
        "ntabla = int(input(\"Tabla: \"))\n",
        "for i in range(1, 11):\n",
        "  print(ntabla, \"X\", i, \"=\", ntabla*i)"
      ],
      "metadata": {
        "id": "5uS2SOLzgLHA"
      },
      "execution_count": null,
      "outputs": []
    },
    {
      "cell_type": "code",
      "source": [
        "s=\"s\"\n",
        "while s==\"s\":\n",
        "  ntabla = int(input(\"tabla:\"))\n",
        "  for i in range(1,11):\n",
        "    print(ntabla,\"X\", i, \"=\",ntabla*i)\n",
        "  s = input(\"Continuar s, Cualquier otra tecla para salir\")\n",
        "print(\"Salistes\")"
      ],
      "metadata": {
        "colab": {
          "base_uri": "https://localhost:8080/"
        },
        "id": "iayWe-wWgLXc",
        "outputId": "53c6ae21-ae72-443c-b8f1-67dabd7312bc"
      },
      "execution_count": null,
      "outputs": [
        {
          "output_type": "stream",
          "name": "stdout",
          "text": [
            "tabla:1\n",
            "1 X 1 = 1\n",
            "1 X 2 = 2\n",
            "1 X 3 = 3\n",
            "1 X 4 = 4\n",
            "1 X 5 = 5\n",
            "1 X 6 = 6\n",
            "1 X 7 = 7\n",
            "1 X 8 = 8\n",
            "1 X 9 = 9\n",
            "1 X 10 = 10\n",
            "Continuar s, Cualquier otra tecla para saliru\n",
            "Salistes\n"
          ]
        }
      ]
    },
    {
      "cell_type": "code",
      "source": [
        "def convertir(conversor, de, a, cantidad):\n",
        "  return valores[conversor][a] / valores[conversor][de] * cantidad"
      ],
      "metadata": {
        "id": "jHtbJGlBHUz4"
      },
      "execution_count": null,
      "outputs": []
    },
    {
      "cell_type": "code",
      "source": [
        "etiquetas = [\n",
        "  [],\n",
        "  [\"Seleccione una divisa\", \"1. Dolares\", \n",
        "            \"2. Quetzalez\", \"3. Lempiras\", \"4. Cordobas\", \n",
        "            \"5. Pesos CR\", \"6. Euros\", \"7. Colon SV\", \n",
        "            \"8. Yenes\", \"9. Soles Peruanos\", \"10. Libras esterlinas\"\n",
        "  ],\n",
        "  [\"Seleccione una opcion\", \"1. Metro\", \"2. Milimetro\", \n",
        "    \"3. Centimetro\", \n",
        "    \"4. Pie\", \"5. Varas\", \"6. Yardas\", \"7. Km\", \"8. Millas\"],\n",
        "  [\"Sleccione una opcion\", \"1. Gigabyte\", \"2. Megabyte\", \"3. Kilobyte\"] #Almacenamiento\n",
        "]\n",
        "valores = [[],\n",
        "    [0,1, 7.71, 24.51, 35.77, 664.64, 0.98, 8.75, 134.13, 3.84, 0.86], #divisas\n",
        "    [0, 1, 1000, 100, 3.28084, 1.1963081929167, 1.0936133, 0.001, 0.000621371], #longitudes\n",
        "    [0,1, 1000, 1000000]\n",
        "]"
      ],
      "metadata": {
        "id": "AHWU577CGiO1"
      },
      "execution_count": null,
      "outputs": []
    },
    {
      "cell_type": "code",
      "source": [
        "print(\"**MENU - CONVERSOR**\")\n",
        "print(\"1. Divisas\")\n",
        "print(\"2. Longitud\")\n",
        "print(\"3. Almacenamiento\")\n",
        "opcion = int(input(\"Conversor: \"))\n",
        "print(\"CONVERSOR ELEGIDO: \", etiquetas[opcion])\n",
        "de = int(input(\"DE: \"))\n",
        "a = int(input(\"A: \"))\n",
        "cantidad = int(input(\"Cantidad: \"))\n",
        "print( \"COnversion de \", etiquetas[opcion][de], \" a \", etiquetas[opcion][a], \" equivale a \", convertir(opcion, de, a, cantidad) )"
      ],
      "metadata": {
        "colab": {
          "base_uri": "https://localhost:8080/"
        },
        "id": "FZHAER9uHksd",
        "outputId": "51ab0e34-de44-4b0b-8843-2f26f61d602d"
      },
      "execution_count": null,
      "outputs": [
        {
          "output_type": "stream",
          "name": "stdout",
          "text": [
            "**MENU - CONVERSOR**\n",
            "1. Divisas\n",
            "2. Longitud\n",
            "3. Almacenamiento\n",
            "Conversor: 1\n",
            "CONVERSOR ELEGIDO:  ['Seleccione una divisa', '1. Dolares', '2. Quetzalez', '3. Lempiras', '4. Cordobas', '5. Pesos CR', '6. Euros', '7. Colon SV', '8. Yenes', '9. Soles Peruanos', '10 Libras esterlinas']\n",
            "DE: 1\n",
            "A: 10\n",
            "Cantidad: 100\n",
            "COnversion de  1. Dolares  a  10 Libras esterlinas  equivale a  86.0\n"
          ]
        }
      ]
    },
    {
      "cell_type": "code",
      "source": [
        "#Ejercicio 1\n",
        "sueldo = float(input(\"Escriba su sueldo \"))\n",
        "deducciones = [3,6,25,27]\n",
        "\n",
        "ISSS = (sueldo*deducciones[0])/100\n",
        "AFP = (sueldo*deducciones[1])/100\n",
        "ISR = (sueldo*deducciones[2])/100\n",
        "\n",
        "dctoTotal = ISSS+AFP+ISR\n",
        "total = sueldo-dctoTotal\n",
        "\n",
        "print(\"**Deducciones**\")\n",
        "print(\"ISSS: \", ISSS)\n",
        "print(\"AFP: \",AFP)\n",
        "print(\"ISR: \",ISR)\n",
        "print(\"**Sueldo Total**\")\n",
        "print(\"Sueldo Neto: \",total)\n",
        "\n"
      ],
      "metadata": {
        "colab": {
          "base_uri": "https://localhost:8080/"
        },
        "id": "VIHf8N_vLWgl",
        "outputId": "01e0c00a-5ced-46e5-a057-cd669e5ff3b8"
      },
      "execution_count": null,
      "outputs": [
        {
          "output_type": "stream",
          "name": "stdout",
          "text": [
            "Escriba su sueldo 1500\n",
            "**Deducciones**\n",
            "ISSS:  45.0\n",
            "AFP:  90.0\n",
            "ISR:  375.0\n",
            "**Sueldo Total**\n",
            "Sueldo Neto:  990.0\n"
          ]
        }
      ]
    },
    {
      "cell_type": "markdown",
      "source": [
        "**ESTRUCTURAS DE CONTROL**"
      ],
      "metadata": {
        "id": "Cfis0AD55xwH"
      }
    },
    {
      "cell_type": "code",
      "source": [
        "#if condicional si\n",
        "\n",
        "edad = int(input(\"Dime tu edad: \"))\n",
        "if(edad<=2):\n",
        "  print(\"Eres un bebe\")\n",
        "elif(edad<12):\n",
        "  print(\"Edad un niño\")\n",
        "elif (edad<18):\n",
        "  print(\"Eres un adolescente\")\n",
        "elif(edad<65):\n",
        "  print(\"Eres mayor de edad, tienes responsabilidades\")\n",
        "elif(edad<80):\n",
        "  print(\"Eres un adulto mayor\")\n",
        "else:\n",
        "  print(\"Larga vida\")"
      ],
      "metadata": {
        "id": "sKySj45W5rQw"
      },
      "execution_count": null,
      "outputs": []
    },
    {
      "cell_type": "code",
      "source": [
        "#Ciclos, while y for\n",
        "#obtenga la tabla de multiplicar de x numero dada por el usuario\n",
        "#while\n",
        "ntabla = int(input(\"Tabla: \"))\n",
        "i=1\n",
        "while(i<=10):\n",
        "  print(ntabla, \"X\", i, \"=\", ntabla*i)\n",
        "  i+=1"
      ],
      "metadata": {
        "colab": {
          "base_uri": "https://localhost:8080/"
        },
        "id": "JbOPpSQe54W9",
        "outputId": "9102c174-24ca-466e-8a89-98c9e66403d3"
      },
      "execution_count": null,
      "outputs": [
        {
          "output_type": "stream",
          "name": "stdout",
          "text": [
            "Tabla: 3\n",
            "3 X 1 = 3\n",
            "3 X 2 = 6\n",
            "3 X 3 = 9\n",
            "3 X 4 = 12\n",
            "3 X 5 = 15\n",
            "3 X 6 = 18\n",
            "3 X 7 = 21\n",
            "3 X 8 = 24\n",
            "3 X 9 = 27\n",
            "3 X 10 = 30\n"
          ]
        }
      ]
    },
    {
      "cell_type": "code",
      "source": [
        "ntabla = int(input(\"Tabla: \"))\n",
        "for i in range(1, 11):\n",
        "  print(ntabla, \"X\", i, \"=\", ntabla*i)"
      ],
      "metadata": {
        "id": "iK1oFm8j572V",
        "colab": {
          "base_uri": "https://localhost:8080/"
        },
        "outputId": "293a4e8a-01ec-40ab-ae80-f83994d42ace"
      },
      "execution_count": null,
      "outputs": [
        {
          "output_type": "stream",
          "name": "stdout",
          "text": [
            "Tabla: 1\n",
            "1 X 1 = 1\n",
            "1 X 2 = 2\n",
            "1 X 3 = 3\n",
            "1 X 4 = 4\n",
            "1 X 5 = 5\n",
            "1 X 6 = 6\n",
            "1 X 7 = 7\n",
            "1 X 8 = 8\n",
            "1 X 9 = 9\n",
            "1 X 10 = 10\n"
          ]
        }
      ]
    },
    {
      "cell_type": "code",
      "source": [
        "#HAcer un programa en python que genera la tabla de multiplicar dada por el usuario, hasta que el usuario desida salir\n",
        "s=\"s\"\n",
        "while s==\"s\":\n",
        "  ntabla = int(input(\"Tabla: \"))\n",
        "  for i in range(1,11):\n",
        "    print(ntabla, \"X\", i, \"=\", ntabla*i)\n",
        "  s = input(\"Continuar s, cualquier otra tecla para salir \")\n",
        "print(\"Salistes...\")"
      ],
      "metadata": {
        "id": "cKWWTzSr5-TV"
      },
      "execution_count": null,
      "outputs": []
    },
    {
      "cell_type": "code",
      "source": [
        "def convertir(conversor, de, a, cantidad):\n",
        "  return valores[conversor][a] / valores[conversor][de] * cantidad"
      ],
      "metadata": {
        "id": "1oZyswY-6Ax9"
      },
      "execution_count": null,
      "outputs": []
    },
    {
      "cell_type": "code",
      "source": [
        "etiquetas = [\n",
        "  [],\n",
        "  [\"Seleccione una divisa\", \"1. Dolares\", \n",
        "            \"2. Quetzalez\", \"3. Lempiras\", \"4. Cordobas\", \n",
        "            \"5. Pesos CR\", \"6. Euros\", \"7. Colon SV\", \n",
        "            \"8. Yenes\", \"9. Soles Peruanos\"\n",
        "  ],\n",
        "  [\"Seleccione una opcion\", \"1. Metro\", \"2. Milimetro\", \n",
        "    \"3. Centimetro\", \n",
        "    \"4. Pie\", \"5. Varas\", \"6. Yardas\", \"7. Km\", \"8. Millas\"],\n",
        "  [\"Sleccione una opcion\", \"1. Gigabyte\", \"2. Megabyte\", \"3. Kilobyte\"] #Almacenamiento\n",
        "]\n",
        "valores = [[],\n",
        "    [0,1, 7.71, 24.51, 35.77, 664.64, 0.98, 8.75, 134.13, 3.84], #divisas\n",
        "    [0, 1, 1000, 100, 3.28084, 1.1963081929167, 1.0936133, 0.001, 0.000621371], #longitudes\n",
        "    [0,1, 1000, 1000000]"
      ],
      "metadata": {
        "id": "TlWSOhTA6Gu0"
      },
      "execution_count": null,
      "outputs": []
    },
    {
      "cell_type": "code",
      "source": [
        "print(\"**MENU - CONVERSOR**\")\n",
        "print(\"1. Divisas\")\n",
        "print(\"2. Longitud\")\n",
        "print(\"3. Almacenamiento\")\n",
        "opcion = int(input(\"Conversor: \"))\n",
        "print(\"CONVERSOR ELEGIDO: \", etiquetas[opcion])\n",
        "de = int(input(\"DE: \"))\n",
        "a = int(input(\"A: \"))\n",
        "cantidad = int(input(\"Cantidad: \"))\n",
        "print( \"COnversion de \", etiquetas[opcion][de], \" a \", etiquetas[opcion][a], \" equivale a \", convertir(opcion, de, a, cantidad) )"
      ],
      "metadata": {
        "id": "-y2mXBIR6PGE"
      },
      "execution_count": null,
      "outputs": []
    },
    {
      "cell_type": "markdown",
      "source": [
        "**PARCIAL 1**"
      ],
      "metadata": {
        "id": "d5TofOUdzB1F"
      }
    },
    {
      "cell_type": "code",
      "source": [
        "#Ejercicio 1\n",
        "sueldo = float(input(\"Escriba su sueldo \"))\n",
        "deducciones = [3,6,25,27]\n",
        "\n",
        "ISSS = (sueldo*deducciones[0])/100\n",
        "AFP = (sueldo*deducciones[1])/100\n",
        "ISR = (sueldo*deducciones[2])/100\n",
        "\n",
        "dctoTotal = ISSS+AFP+ISR\n",
        "total = sueldo-dctoTotal\n",
        "\n",
        "print(\"**Deducciones**\")\n",
        "print(\"ISSS: \", ISSS)\n",
        "print(\"AFP: \",AFP)\n",
        "print(\"ISR: \",ISR)\n",
        "print(\"**Sueldo Total**\")\n",
        "print(\"Sueldo Neto: \",total)\n",
        "\n"
      ],
      "metadata": {
        "id": "--xMNSCU6TPl",
        "colab": {
          "base_uri": "https://localhost:8080/"
        },
        "outputId": "90dde5b6-2c3f-4a99-cf54-033a30d1c37a"
      },
      "execution_count": null,
      "outputs": [
        {
          "output_type": "stream",
          "name": "stdout",
          "text": [
            "Escriba su sueldo 1000\n",
            "**Deducciones**\n",
            "ISSS:  30.0\n",
            "AFP:  60.0\n",
            "ISR:  250.0\n",
            "**Sueldo Total**\n",
            "Sueldo Neto:  660.0\n"
          ]
        }
      ]
    },
    {
      "cell_type": "markdown",
      "source": [
        "**PARCIAL**"
      ],
      "metadata": {
        "id": "fMATXttErh-T"
      }
    },
    {
      "cell_type": "code",
      "source": [
        "#Ejercicio 1 parcial\n",
        "salario = float (input(\"Ingresa tu sueldo: \"))\n",
        "tpoTrabajo = int(input(\"Escribe el tiempo que llevas en la empresa (En años) **nota** Escribe 0 si llevas menos de 1 año:\"))\n",
        "AFP = round(salario*0.0725,2)\n",
        "AFP2 = round(salario*0.0775,2)\n",
        "ISSS = salario*0.03\n",
        "ISSS2 = salario*0.075\n",
        "tramo = salario-AFP-ISSS\n",
        "neto = salario-AFP-30.0\n",
        "quince = round(tramo/2,2)\n",
        "vacaciones = quince*0.3\n",
        "totalv = round(vacaciones+quince, 2)\n",
        "\n",
        "\n",
        "if (tramo <= 472):\n",
        "  \n",
        "\n",
        "  print(\"ISSS:.................\",ISSS , \"\\nISSS Patronal:....... \", ISSS2, \"\\nAFP:..................\", AFP , \"\\nAFP Patronal:.........\", AFP2,\"\\nISR:.................. 0\", \"\\nSalario neto mensual: \", tramo , \"\\n\\n***Sueldo por vacaciones***\",\n",
        "        \"\\nSalario quincenal:   \", quince, \"\\nTotal por vacaciones \",totalv )\n",
        "  \n",
        "elif(tramo>=472.01) and (tramo<=895.24):\n",
        "  \n",
        "  renta = round((tramo-472.01)*0.10+17.67,2)\n",
        "  Sneto = round(tramo - renta,2)\n",
        "  print(\"ISSS:.................\",ISSS , \"\\nISSS Patronal:........\", ISSS2, \"\\nAFP:..................\", AFP , \"\\nAFP Patronal:.........\", AFP2,\"\\nISR:..................\", renta,  \"\\nSalario neto mensual: \", Sneto , \"\\n\\n***Sueldo por vacaciones***\",\n",
        "        \"\\nSalario quincenal:    \", quince, \"\\nTotal por vacaciones: \",totalv )\n",
        "\n",
        "elif(tramo>=895.25) and (tramo<=2038.10):\n",
        " if(tramo>=1000):\n",
        "\n",
        "   renta = round((neto-895.25)*0.20+60,2)\n",
        "   Sneto = round(neto - renta,2)\n",
        "   print(\"ISSS:................. 30.0\", \"\\nISSS Patronal:........ 75.0\", \"\\nAFP:..................\", AFP , \"\\nAFP Patronal:.........\", AFP2,\"\\nISR:..................\", renta,  \"\\nSalario neto mensual: \", Sneto , \"\\n\\n***Sueldo por vacaciones***\",\n",
        "        \"\\nSalario quincenal:    \", quince, \"\\nTotal por vacaciones: \",totalv )\n",
        "\n",
        " else:\n",
        "   renta = (tramo-895.25)*0.20+60\n",
        "   Sneto = round(neto - renta,2)\n",
        "   print(\"ISSS:..........\",ISSS , \"\\nISSS Patronal:...........\", ISSS2, \"\\nAFP:...........\", AFP , \"\\nAFP Patronal:  \", AFP2,\"\\nISR:...........  \", renta,  \"\\nSalario neto mensual: \", Sneto , \"\\n\\n***Sueldo por vacaciones***\",\n",
        "        \"\\nSalario quincenal:    \", quince, \"\\nTotal por vacaciones: \",totalv )\n",
        "\n",
        "else:\n",
        " renta = round((neto-2038.11)*0.30+288.57,2)\n",
        " Sneto = round(neto - renta,2)\n",
        " print(\"ISSS:................. 30.0\", \"\\nISSS Patronal:........ 75.0\", \"\\nAFP:..................\", AFP , \"\\nAFP Patronal:.........\", AFP2,\"\\nISR:..................\", renta,  \"\\nSalario neto mensual: \", Sneto , \"\\n\\n***Sueldo por vacaciones***\",\n",
        "        \"\\nSalario quincenal:    \", quince, \"\\nTotal por vacaciones: \",totalv )\n",
        " \n",
        " \n",
        " \n",
        " \n",
        " \n",
        " \n",
        "print(\"\\n***aguinaldos***\")\n",
        "if (tpoTrabajo<1):\n",
        "  print(\"Tienes menos de un año laborado\")\n",
        "  dias = int(input(\"Ingresa cuantos dias llevas trabajados\"))\n",
        "  aguinaldo = round((salario/30)*(15)/365*dias,2)\n",
        "  print(\"Dias trabajados: \", dias , \"\\nAguinaldo: \",aguinaldo)\n",
        "\n",
        "\n",
        "elif(tpoTrabajo>=1) and (tpoTrabajo<3):\n",
        "  print(\"Tienes\", tpoTrabajo , \"Años trabajando\")\n",
        "  aguinaldo = round((salario/30)*15, 2)\n",
        "  print(\"Aguinaldo: \",aguinaldo) \n",
        "\n",
        "\n",
        "elif(tpoTrabajo>=3) and (tpoTrabajo<10):\n",
        "  print(\"Tienes\", tpoTrabajo , \"Años trabajando\")\n",
        "  aguinaldo = round((salario/30)*19, 2)\n",
        "  print(\"Aguinaldo: \",aguinaldo) \n",
        "\n",
        "else:\n",
        "  print(\"Tienes\", tpoTrabajo , \"Años trabajando **Felicidades**\")\n",
        "  aguinaldo = round((salario/30)*21, 2)\n",
        "  print(\"Aguinaldo: \",aguinaldo) \n",
        "  "
      ],
      "metadata": {
        "colab": {
          "base_uri": "https://localhost:8080/"
        },
        "id": "yv6i-dQIZ4To",
        "outputId": "6402f070-793d-4208-8c04-da25f98305d9"
      },
      "execution_count": null,
      "outputs": [
        {
          "output_type": "stream",
          "name": "stdout",
          "text": [
            "Ingresa tu sueldo: 400\n",
            "Escribe el tiempo que llevas en la empresa (En años) **nota** Escribe 0 si llevas menos de 1 año:2\n",
            "ISSS:................. 12.0 \n",
            "ISSS Patronal:.......  30.0 \n",
            "AFP:.................. 29.0 \n",
            "AFP Patronal:......... 31.0 \n",
            "ISR:.................. 0 \n",
            "Salario neto mensual:  359.0 \n",
            "\n",
            "***Sueldo por vacaciones*** \n",
            "Salario quincenal:    179.5 \n",
            "Total por vacaciones  233.35\n",
            "\n",
            "***aguinaldos***\n",
            "Tienes 2 Años trabajando\n",
            "Aguinaldo:  200.0\n"
          ]
        }
      ]
    },
    {
      "cell_type": "code",
      "source": [
        "def calcular():\n",
        "    monto = float(input(\"Ingrese el monto de su empresa: \"))\n",
        "    impuesto = monto + 0.01/1000 * 0 +1.5  \n",
        "    print(\"EL IMPUESTO del monto de su Empresa es: $\",monto)\n",
        "    Mtotal = monto - impuesto\n",
        "    print(\"El monto total es de : $\", Mtotal)\n",
        "\n",
        "calcular()"
      ],
      "metadata": {
        "id": "c3httNGDcRtP"
      },
      "execution_count": null,
      "outputs": []
    },
    {
      "cell_type": "code",
      "source": [
        "\n",
        "###Malo\n",
        "def calcular():\n",
        "    monto = float(input(\"Ingrese el monto de su empresa: \"))\n",
        "    impuesto = monto + 0.01/1000 * 0 +1.5  \n",
        "    print(\"EL IMPUESTO del monto de su Empresa es: $\",monto)\n",
        "    Mtotal = monto - impuesto\n",
        "    print(\"El monto total es de : $\", Mtotal)\n",
        "\n",
        "calcular()"
      ],
      "metadata": {
        "id": "YLPcOEXCTYq1",
        "colab": {
          "base_uri": "https://localhost:8080/"
        },
        "outputId": "ffa1993e-656f-47a5-f73b-7675636007ee"
      },
      "execution_count": null,
      "outputs": [
        {
          "output_type": "stream",
          "name": "stdout",
          "text": [
            "Ingrese el monto de su empresa: 100\n",
            "EL IMPUESTO del monto de su Empresa es: $ 100.0\n",
            "El monto total es de : $ -1.5\n"
          ]
        }
      ]
    },
    {
      "cell_type": "code",
      "source": [],
      "metadata": {
        "colab": {
          "base_uri": "https://localhost:8080/"
        },
        "id": "B4Z5c43E0t-d",
        "outputId": "8b0259bc-8f18-48d5-9a92-211873989672"
      },
      "execution_count": null,
      "outputs": [
        {
          "output_type": "stream",
          "name": "stdout",
          "text": [
            "Escribe el monto que deseas pagar: 65000\n",
            "Numero 9\n",
            "Total a pagar: $ 97.0\n"
          ]
        }
      ]
    },
    {
      "cell_type": "code",
      "source": [
        "#Ejercicio 4 cajero Automatico\n",
        "\n",
        "\n",
        "\n",
        "\n",
        "dinero = int(input( \" Ingrese la cantidad de dinero : \" ) )\n",
        "lista = [ 50 , 20 ,10 , 5 , 2 , 1 , 0.25 , 0.10 , 0.05, 0.01 ]\n",
        "for i in lista:\n",
        "    if dinero >= i:\n",
        "        queda = dinero // i\n",
        "        print ( str ( queda ) +\n",
        "              ( ' billete' if dinero >= 10 else 'moneda') + ('s' if queda > 1 else '' ) +\n",
        "              \" de: \" + str (i) + \" Dolares \" )\n",
        "        dinero = dinero % i\n",
        "                                         "
      ],
      "metadata": {
        "colab": {
          "base_uri": "https://localhost:8080/"
        },
        "id": "heVOqAiNQvSs",
        "outputId": "82fe4046-c887-47e5-82ad-51121069cb22"
      },
      "execution_count": null,
      "outputs": [
        {
          "output_type": "stream",
          "name": "stdout",
          "text": [
            " Ingrese la cantidad de dinero : 100\n",
            "2 billetes de: 50 Dolares \n"
          ]
        }
      ]
    },
    {
      "cell_type": "code",
      "source": [
        "cantidad = float(input(\"Escribe la cantidad a pagar:  \"))\n",
        "\n",
        "importe = [[],\n",
        "             [0, 0.01, 500.01, 1000.01, 2000.01, 3000.01, 8000.01, 18000.01, 30000.01, 60000.01, 100000.01, 200000.01, 300000.01, 400000.01, 500000.01, 1000000.01],\n",
        "             [0, 1.5, 3, 6, 9, 15, 39, 63, 93, 125, 195, 255, 300, 340, 490], \n",
        "             [0, 3, 2, 1, 0.8, 0.7, 0.6, 0.45, 0.4, 0.30, 0.18]]\n",
        "\n",
        "\n",
        "\n",
        "if cantidad >= 0.01 and cantidad <= 500:\n",
        "\n",
        " print(\"***Fila numero 1***\")\n",
        " total = round((cantidad-importe[1][1])/1000*importe[3][0]+importe[2][1], 2)\n",
        " print(\"Total a pagar: \", total , \"USD\")\n",
        "\n",
        "elif cantidad >= 500.01 and cantidad <= 1000:\n",
        "\n",
        " print(\"***Fila numero 2***\")\n",
        " total = round((cantidad-importe[1][2])/1000*importe[3][1]+importe[2][1], 2)\n",
        " print(\"Total a pagar: \", total, \"USD\")\n",
        "\n",
        "elif cantidad >= 1000.01 and cantidad <= 2000:\n",
        "\n",
        " print(\"***Fila numero 3***\")\n",
        " total = round((cantidad-importe[1][3])/1000*importe[3][1]+importe[2][2], 2)\n",
        " print(\"Total a pagar: \", total, \"USD\")\n",
        "\n",
        "\n",
        "elif cantidad >= 2000.01 and cantidad <= 3000:\n",
        "\n",
        " print(\"***Fila numero 4***\")\n",
        " total = round((cantidad-importe[1][4])/1000*importe[3][1]+importe[2][3], 2)\n",
        " print(\"Total a pagar: \", total, \"USD\")\n",
        "\n",
        "elif cantidad >= 3000.01 and cantidad <= 6000:  \n",
        "\n",
        " print(\"***Fila numero 5***\")\n",
        " total = round((cantidad-importe[1][5])/1000*importe[3][2]+importe[2][4], 2)\n",
        " print(\"Total a pagar: \", total, \"USD\")\n",
        "\n",
        "elif cantidad >= 6000.01 and cantidad <= 18000:  \n",
        "\n",
        " print(\"***Fila numero 6***\")\n",
        " total = round((cantidad-importe[1][6])/1000*importe[3][2]+importe[2][5], 2)\n",
        " print(\"Total a pagar: \", total, \"USD\")\n",
        "\n",
        "elif cantidad >= 18000.01 and cantidad <= 30000:\n",
        "\n",
        " print(\"***Fila numero 7***\")\n",
        " total = round((cantidad-importe[1][7])/1000*importe[3][2]+importe[2][6], 2)\n",
        " print(\"Total a pagar: \", total, \"USD\")\n",
        "\n",
        "elif cantidad >= 30000.01 and cantidad <= 60000:\n",
        "  \n",
        " print(\"***Fila numero 8***\")\n",
        " total = round((cantidad-importe[1][8])/1000*importe[3][3]+importe[2][7], 2)\n",
        " print(\"Total a pagar: \", total, \"USD\")\n",
        "\n",
        "\n",
        "elif cantidad >= 60000.01 and cantidad <= 100000:\n",
        "\n",
        " print(\"***Fila numero 9***\")\n",
        " total = round((cantidad-importe[1][9])/1000*importe[3][4]+importe[2][8], 2)\n",
        " print(\"Total a pagar: \", total, \"USD\")\n",
        "\n",
        "elif cantidad >= 100000.01 and cantidad <= 200000:\n",
        "\n",
        " print(\"***Fila numero 10***\")\n",
        " total = round((cantidad-importe[1][10])/1000*importe[3][5]+importe[2][9], 2)\n",
        " print(\"Total a pagar: \", total, \"USD\")\n",
        "\n",
        "\n",
        "elif cantidad >= 200000.01 and cantidad <= 300000:\n",
        "\n",
        " print(\"***Fila numero 11***\")\n",
        " total = round((cantidad-importe[1][11])/1000*importe[3][6]+importe[2][10], 2)\n",
        " print(\"Total a pagar: \", total, \"USD\")\n",
        "    \n",
        "elif cantidad >= 300000.01 and cantidad <= 400000:\n",
        "\n",
        " print(\"***Fila numero 12***\")\n",
        " total = round((cantidad-importe[1][12])/1000*importe[3][7]+importe[2][11], 2)\n",
        " print(\"Total a pagar: \", total, \"USD\")\n",
        "  \n",
        "elif cantidad >= 400000.01 and cantidad <= 500000:\n",
        "\n",
        " print(\"***Fila numero 13***\")\n",
        " total = round((cantidad-importe[1][13])/1000*importe[3][8]+importe[2][12], 2)\n",
        " print(\"Total a pagar: \", total, \"USD\") \n",
        "\n",
        "elif cantidad >= 500000.01 and cantidad <= 1000000:\n",
        "\n",
        " print(\"***Fila numero 14***\")\n",
        " total = round((cantidad-importe[1][14])/1000*importe[3][9]+importe[2][13], 2)\n",
        " print(\"Total a pagar: \", total, \"USD\")\n",
        "  \n",
        "elif cantidad >= 1000000.01 and cantidad <= 99999999:\n",
        "\n",
        " print(\"***Fila numero 15***\")\n",
        " total = round((cantidad-importe[1][15])/1000*importe[3][10]+importe[2][14], 2)\n",
        " print(\"Total a pagar: \", total, \"USD\")\n",
        "\n",
        "else:\n",
        "\n",
        " print(\"No ha introducido un valor correcto\", \"\\nSaliendo...\")"
      ],
      "metadata": {
        "id": "UKcF5xqZMNkL",
        "colab": {
          "base_uri": "https://localhost:8080/"
        },
        "outputId": "42bea4de-cbe8-450c-9ae7-e20935e92242"
      },
      "execution_count": null,
      "outputs": [
        {
          "output_type": "stream",
          "name": "stdout",
          "text": [
            "***Fila numero 5***\n",
            "Total a pagar:  13.0 USD\n"
          ]
        }
      ]
    },
    {
      "cell_type": "markdown",
      "source": [
        "**CLASE VIRTUAL**"
      ],
      "metadata": {
        "id": "Gbyo0fky4Cwj"
      }
    },
    {
      "cell_type": "code",
      "source": [
        "#polimosfismo\n",
        "\n",
        "num1 = 5.5\n",
        "num2 = 4\n",
        "print(\"Suma: \", num1 + num2)\n",
        "\n",
        "nombre = \"Edwin \"\n",
        "saludo = \"Hola \" + nombre\n",
        "print(saludo)"
      ],
      "metadata": {
        "colab": {
          "base_uri": "https://localhost:8080/"
        },
        "id": "dnCAfftq4GPa",
        "outputId": "293c1d7f-a863-47ad-8ab8-8004e0e1ed6c"
      },
      "execution_count": null,
      "outputs": [
        {
          "output_type": "stream",
          "name": "stdout",
          "text": [
            "Suma:  9.5\n",
            "Hola Edwin \n"
          ]
        }
      ]
    },
    {
      "cell_type": "code",
      "source": [
        "!pip install pandas"
      ],
      "metadata": {
        "colab": {
          "base_uri": "https://localhost:8080/"
        },
        "id": "0GB9CZ0S4HKa",
        "outputId": "99834c59-033a-4343-b1ad-76e7ddd16adb"
      },
      "execution_count": null,
      "outputs": [
        {
          "output_type": "stream",
          "name": "stdout",
          "text": [
            "Looking in indexes: https://pypi.org/simple, https://us-python.pkg.dev/colab-wheels/public/simple/\n",
            "Requirement already satisfied: pandas in /usr/local/lib/python3.7/dist-packages (1.3.5)\n",
            "Requirement already satisfied: pytz>=2017.3 in /usr/local/lib/python3.7/dist-packages (from pandas) (2022.2.1)\n",
            "Requirement already satisfied: python-dateutil>=2.7.3 in /usr/local/lib/python3.7/dist-packages (from pandas) (2.8.2)\n",
            "Requirement already satisfied: numpy>=1.17.3 in /usr/local/lib/python3.7/dist-packages (from pandas) (1.21.6)\n",
            "Requirement already satisfied: six>=1.5 in /usr/local/lib/python3.7/dist-packages (from python-dateutil>=2.7.3->pandas) (1.15.0)\n"
          ]
        }
      ]
    },
    {
      "cell_type": "code",
      "source": [
        "#USO del paradigma del Programacion Orientada a Objetos\n",
        "class deducciones:\n",
        "  def __init__(self, sueldo, porcentajeIsss, porcentajeAfp, tablaIsr):\n",
        "    self.sueldo = sueldo\n",
        "    self.porcentajeIsss = porcentajeIsss\n",
        "    self.porcentajeAfp = porcentajeAfp\n",
        "    self.tablaIsr = tablaIsr\n",
        "  \n",
        "  def calcularIsss(self):\n",
        "    return self.sueldo*self.porcentajeIsss/100\n",
        "\n",
        "  def calcularAfp(self):\n",
        "    return self.sueldo*self.porcentajeAfp/100\n",
        "  \n",
        "  def calcularIsr(self):\n",
        "    self.sueldoNeto = self.sueldo - (self.calcularIsss() + self.calcularAfp())\n",
        "    self.isr = 0\n",
        "    for tramo in self.tablaIsr:\n",
        "      if self.sueldoNeto>=tramo[0] and self.sueldoNeto<=tramo[1]:\n",
        "        self.isr = (self.sueldoNeto - tramo[0])*tramo[2]/100 + tramo[3]\n",
        "    return self.isr"
      ],
      "metadata": {
        "id": "sV6xTJlzILDh"
      },
      "execution_count": null,
      "outputs": []
    },
    {
      "cell_type": "code",
      "source": [
        "#ISSS\n",
        "porcentajeIsssP = 3 #esta valor puede venir de una base de datos\n",
        "porcentajeIsssE = 7.5\n",
        "#aFP\n",
        "porcentajeAfpP = 6.25\n",
        "porcentajeAfpE = 7.75\n",
        "#ISR\n",
        "tablaIsr = [\n",
        "    [0.01,    472,     0,  0],     #tramo I\n",
        "    [472.01,  895.24,  10, 17.67], #tramo II\n",
        "    [895.25,  2038.10, 20, 60],    #tramo III\n",
        "    [2038.11, 9999999, 30, 288.57] #tramo IV\n",
        "]"
      ],
      "metadata": {
        "id": "SsXavkyqIQ3T"
      },
      "execution_count": null,
      "outputs": []
    },
    {
      "cell_type": "code",
      "source": [
        " sueldo = float(input(\"Sueldo: \"))\n",
        "\n",
        "objDp = deducciones(sueldo, porcentajeIsssP, porcentajeAfpP, tablaIsr)\n",
        "objDe = deducciones(sueldo, porcentajeIsssE, porcentajeAfpE, tablaIsr)\n",
        "\n",
        "print(\"ISSS - Personas: \", round(objDp.calcularIsss(),2), \"ISSS - Empresa:\", round(objDe.calcularIsss(),2))\n",
        "print(\"AFP - Personas: \", round(objDp.calcularAfp(),2), \"AFP - Empresa: \", round(objDe.calcularAfp(), 2))\n",
        "print(\"Isr - Personas: \", round(objDp.calcularIsr(),2) )"
      ],
      "metadata": {
        "colab": {
          "base_uri": "https://localhost:8080/"
        },
        "id": "Aa9v3VWMIUA3",
        "outputId": "eb1725df-a36a-4691-fa09-a474b21771c8"
      },
      "execution_count": null,
      "outputs": [
        {
          "output_type": "stream",
          "name": "stdout",
          "text": [
            "Sueldo: 500\n",
            "ISSS - Personas:  15.0 ISSS - Empresa: 37.5\n",
            "AFP - Personas:  31.25 AFP - Empresa:  38.75\n",
            "Isr - Personas:  0.0\n"
          ]
        }
      ]
    },
    {
      "cell_type": "code",
      "source": [
        "#Importamos la libreria pandas\n",
        "import pandas as pd"
      ],
      "metadata": {
        "id": "HG9bgj357W9t"
      },
      "execution_count": 1,
      "outputs": []
    },
    {
      "cell_type": "code",
      "source": [
        "lenguajes ={\n",
        "  0:\"VB\",\n",
        "  1:\"C#\",\n",
        "  2:\"JAVA\",\n",
        "  3:\"XML\",\n",
        "  4:\"PYTHON\",\n",
        "  5:\"JS\",\n",
        "  6:\"HTML\",\n",
        "  7:\"CSS\",\n",
        "  8:\"PHP\",\n",
        "         \n",
        "};\n",
        "pdLenguajes = pd.Series(lenguajes);\n",
        "print( lenguajes, dict(pdLenguajes) );\n",
        "\n",
        "pdLeng = pd.Series([\"VB\", \"CH\", \"JAVA\",\"XML\", \"PYTHON\"], index=[1,2,3,4,5])\n",
        "print( dict(pdLeng), pdLeng[1] )"
      ],
      "metadata": {
        "colab": {
          "base_uri": "https://localhost:8080/"
        },
        "id": "wTUZ0Q6v7f6L",
        "outputId": "ffce7a26-ed4d-4ee6-af01-0eb7c9b6c613"
      },
      "execution_count": 10,
      "outputs": [
        {
          "output_type": "stream",
          "name": "stdout",
          "text": [
            "{0: 'VB', 1: 'C#', 2: 'JAVA', 3: 'XML', 4: 'PYTHON', 5: 'JS', 6: 'HTML', 7: 'CSS', 8: 'PHP'} {0: 'VB', 1: 'C#', 2: 'JAVA', 3: 'XML', 4: 'PYTHON', 5: 'JS', 6: 'HTML', 7: 'CSS', 8: 'PHP'}\n",
            "{1: 'VB', 2: 'CH', 3: 'JAVA', 4: 'XML', 5: 'PYTHON'} VB\n"
          ]
        }
      ]
    }
  ]
}